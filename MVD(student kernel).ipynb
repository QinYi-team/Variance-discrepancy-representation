{
 "cells": [
  {
   "cell_type": "code",
   "execution_count": 1,
   "metadata": {
    "run_control": {
     "marked": false
    }
   },
   "outputs": [],
   "source": [
    "import tensorflow as tf\n",
    "import matplotlib.pyplot as plt\n",
    "%matplotlib inline\n",
    "import numpy as np\n",
    "import sys\n",
    "import sklearn\n",
    "from sklearn import metrics\n",
    "import os\n",
    "import pandas as pd\n",
    "import time\n",
    "from sklearn.manifold import TSNE\n",
    "from sklearn.decomposition import PCA\n",
    "import logging\n",
    "logging.disable(30)\n",
    "from collections import  Counter\n",
    "import math\n",
    "import random\n",
    "from fitter import Fitter\n",
    "random_seed =3407\n",
    "random.seed(random_seed )\n",
    "tf.random.set_seed(random_seed )\n",
    "os.environ['TF_DETERMINISTIC_OPS'] = '1'"
   ]
  },
  {
   "cell_type": "code",
   "execution_count": 2,
   "metadata": {},
   "outputs": [],
   "source": [
    "# VDR distribution alignment metric\n",
    "def mix_student_vdr2(X, Y, sigmas=(1,), wts=None, biased=True):\n",
    "    K_XX, K_XY, K_YY, d = _mix_student_kernel(X, Y, sigmas, wts)\n",
    "    return _vdr2(K_XX, K_XY, K_YY, const_diagonal=d, biased=biased)\n",
    "\n",
    "def _mix_student_kernel(X, Y, sigmas, wts=None):\n",
    "    if wts is None:\n",
    "        wts = [1] * len(sigmas)\n",
    "\n",
    "    XX = tf.matmul(X, X, transpose_b=True)\n",
    "    XY = tf.matmul(X, Y, transpose_b=True)\n",
    "    YY = tf.matmul(Y, Y, transpose_b=True)\n",
    "\n",
    "    X_sqnorms = tf.linalg.diag_part(XX)\n",
    "    Y_sqnorms = tf.linalg.diag_part(YY)\n",
    "\n",
    "    r = lambda x: tf.expand_dims(x, 0)\n",
    "    c = lambda x: tf.expand_dims(x, 1)\n",
    "\n",
    "    K_XX, K_XY, K_YY = 0, 0, 0\n",
    "    for sigma, wt in zip(sigmas, wts):\n",
    "        gamma = math.gamma((sigma+1)/2) / (math.gamma((sigma)/2)*(sigma**0.5))                            \n",
    "        K_XX += wt * gamma * tf.pow((1.+(-2 * XX + c(X_sqnorms) + r(X_sqnorms))/2.),-(sigma+1.)/2)\n",
    "        K_XY += wt * gamma * tf.pow((1.+(-2 * XY + c(X_sqnorms) + r(Y_sqnorms))/2.),-(sigma+1.)/2)\n",
    "        K_YY += wt * gamma * tf.pow((1.+(-2 * YY + c(Y_sqnorms) + r(Y_sqnorms))/2.),-(sigma+1.)/2)\n",
    "    \n",
    "    return K_XX, K_XY, K_YY, tf.reduce_sum(wts)\n",
    "    \n",
    "\n",
    "def _vdr2(K_XX, K_XY, K_YY, const_diagonal=False, biased=False):\n",
    "    m = tf.cast(K_XX.get_shape()[0], tf.float32)\n",
    "    n = tf.cast(K_YY.get_shape()[0], tf.float32)\n",
    "    \n",
    "    CM_m=tf.eye(m,m)-(1/m)*tf.ones((m,m))\n",
    "    CM_n=tf.eye(n,n)-(1/n)*tf.ones((n,n))\n",
    "    \n",
    "    \n",
    "    C_K_XX=tf.pow(tf.matmul(tf.matmul(CM_m,K_XX),CM_m, transpose_b=True),2)\n",
    "    C_K_YY=tf.pow(tf.matmul(tf.matmul(CM_n,K_YY),CM_n, transpose_b=True),2)\n",
    "    C_K_XY=tf.pow(tf.matmul(tf.matmul(CM_m,K_XY),CM_n, transpose_b=True),2)\n",
    "    \n",
    "\n",
    "    if biased:\n",
    "        vdr2 = (tf.reduce_sum(C_K_XX) / (m * m)\n",
    "              + tf.reduce_sum(C_K_YY) / (n * n)\n",
    "              - 2 * tf.reduce_sum(C_K_XY) / (m * n))\n",
    "    \n",
    "    else:\n",
    "        if const_diagonal is not False:\n",
    "            trace_X = m * const_diagonal\n",
    "            trace_Y = n * const_diagonal\n",
    "        else:\n",
    "            trace_X = tf.linalg.trace(C_K_XX)\n",
    "            trace_Y = tf.linalg.trace(C_K_YY)\n",
    "\n",
    "        vdr2 = ((tf.reduce_sum(C_K_XX) - trace_X) / ((m-1) * (m - 2))\n",
    "              + (tf.reduce_sum(C_K_YY) - trace_Y) / ((n-1) * (n - 2))\n",
    "              - 2 * tf.reduce_sum(C_K_XY) / ((m-1) * (n-1)))\n",
    "    return vdr2"
   ]
  },
  {
   "cell_type": "code",
   "execution_count": 3,
   "metadata": {},
   "outputs": [
    {
     "data": {
      "text/plain": [
       "((4000, 3072), (4000, 4), (4000, 3072), (4000, 4))"
      ]
     },
     "execution_count": 3,
     "metadata": {},
     "output_type": "execute_result"
    }
   ],
   "source": [
    "data1=np.load(r\"Dataset\\cwrudata\\48kcwru_data.npy\")\n",
    "label1=np.load(r\"Dataset\\cwrudata\\48kcwru_label.npy\")\n",
    "\n",
    "data2 =np.load(r\"Dataset\\jnudata\\jnudata1000_data.npy\")\n",
    "label2 =np.load(r\"Dataset\\jnudata\\jnudata1000_label.npy\")\n",
    "\n",
    "data3 =np.load(r\"Dataset\\seudata\\seu2_data.npy\")\n",
    "label3 =np.load(r\"Dataset\\seudata\\seu2_label.npy\")\n",
    "\n",
    "source_data=data1\n",
    "source_label=label1\n",
    "\n",
    "target_data=data2\n",
    "target_label=label2\n",
    "\n",
    "source_data.shape,source_label.shape,target_data.shape,target_label.shape"
   ]
  },
  {
   "cell_type": "code",
   "execution_count": 4,
   "metadata": {},
   "outputs": [],
   "source": [
    "source_data=(source_data-source_data.min(axis=1).reshape((len(source_data),1)))/(source_data.max(axis=1).reshape((len(source_data),1))-source_data.min(axis=1).reshape((len(source_data),1)))\n",
    "target_data=(target_data-target_data.min(axis=1).reshape((len(target_data),1)))/(target_data.max(axis=1).reshape((len(target_data),1))-target_data.min(axis=1).reshape((len(target_data),1)))"
   ]
  },
  {
   "cell_type": "code",
   "execution_count": 5,
   "metadata": {},
   "outputs": [],
   "source": [
    "source_data=tf.expand_dims(source_data,axis=-1)\n",
    "target_data=tf.expand_dims(target_data,axis=-1)"
   ]
  },
  {
   "cell_type": "code",
   "execution_count": 6,
   "metadata": {},
   "outputs": [],
   "source": [
    "train_dataset=tf.data.Dataset.from_tensor_slices((source_data,target_data,source_label,target_label))\n",
    "train_dataset=train_dataset.shuffle(50000).batch(128,drop_remainder=True)\n",
    "\n",
    "test_dataset=tf.data.Dataset.from_tensor_slices((target_data,target_label))\n",
    "test_dataset=test_dataset.shuffle(50000).batch(4000,drop_remainder=True)\n",
    "\n",
    "pre_train_dataset=tf.data.Dataset.from_tensor_slices((source_data,source_label))\n",
    "pre_train_dataset=pre_train_dataset.shuffle(50000).batch(1000,drop_remainder=True)"
   ]
  },
  {
   "cell_type": "code",
   "execution_count": 7,
   "metadata": {},
   "outputs": [],
   "source": [
    "test_dataset=tf.data.Dataset.from_tensor_slices((source_data,target_data,source_label,target_label))\n",
    "test_dataset=test_dataset.batch(4000,drop_remainder=True)"
   ]
  },
  {
   "cell_type": "code",
   "execution_count": 8,
   "metadata": {},
   "outputs": [
    {
     "name": "stdout",
     "output_type": "stream",
     "text": [
      "Model: \"model\"\n",
      "_________________________________________________________________\n",
      "Layer (type)                 Output Shape              Param #   \n",
      "=================================================================\n",
      "source_data (InputLayer)     [(None, 3072, 1)]         0         \n",
      "_________________________________________________________________\n",
      "conv1 (Conv1D)               (None, 192, 16)           1040      \n",
      "_________________________________________________________________\n",
      "bn1 (BatchNormalization)     (None, 192, 16)           64        \n",
      "_________________________________________________________________\n",
      "plool1 (MaxPooling1D)        (None, 96, 16)            0         \n",
      "_________________________________________________________________\n",
      "conv2 (Conv1D)               (None, 96, 32)            1568      \n",
      "_________________________________________________________________\n",
      "bn2 (BatchNormalization)     (None, 96, 32)            128       \n",
      "_________________________________________________________________\n",
      "plool2 (MaxPooling1D)        (None, 48, 32)            0         \n",
      "_________________________________________________________________\n",
      "conv3 (Conv1D)               (None, 48, 64)            6208      \n",
      "_________________________________________________________________\n",
      "bn3 (BatchNormalization)     (None, 48, 64)            256       \n",
      "_________________________________________________________________\n",
      "plool3 (MaxPooling1D)        (None, 24, 64)            0         \n",
      "_________________________________________________________________\n",
      "conv4 (Conv1D)               (None, 24, 128)           24704     \n",
      "_________________________________________________________________\n",
      "bn4 (BatchNormalization)     (None, 24, 128)           512       \n",
      "_________________________________________________________________\n",
      "plool4 (MaxPooling1D)        (None, 12, 128)           0         \n",
      "_________________________________________________________________\n",
      "conv5 (Conv1D)               (None, 12, 256)           98560     \n",
      "_________________________________________________________________\n",
      "bn5 (BatchNormalization)     (None, 12, 256)           1024      \n",
      "_________________________________________________________________\n",
      "plool5 (MaxPooling1D)        (None, 6, 256)            0         \n",
      "_________________________________________________________________\n",
      "global_average_pooling1d (Gl (None, 256)               0         \n",
      "_________________________________________________________________\n",
      "cl_1 (Dense)                 (None, 128)               32896     \n",
      "_________________________________________________________________\n",
      "cl_2 (Dense)                 (None, 4)                 516       \n",
      "=================================================================\n",
      "Total params: 167,476\n",
      "Trainable params: 166,484\n",
      "Non-trainable params: 992\n",
      "_________________________________________________________________\n"
     ]
    }
   ],
   "source": [
    "input_1=tf.keras.Input(shape=(3072,1),name='source_data')\n",
    "\n",
    "x=tf.keras.layers.Conv1D(filters=16,kernel_size=64,strides=16,activation='relu',padding='same',name='conv1')(input_1)\n",
    "x=tf.keras.layers.BatchNormalization(name='bn1')(x)\n",
    "x=tf.keras.layers.MaxPooling1D(pool_size=2,strides=2,padding='same',name='plool1')(x)\n",
    "\n",
    "x=tf.keras.layers.Conv1D(filters=32,kernel_size=3,strides=1,activation='relu',padding='same',name='conv2')(x)\n",
    "x=tf.keras.layers.BatchNormalization(name='bn2')(x)\n",
    "x=tf.keras.layers.MaxPooling1D(pool_size=2,strides=2,padding='same',name='plool2')(x)\n",
    "\n",
    "x=tf.keras.layers.Conv1D(filters=64,kernel_size=3,strides=1,activation='relu',padding='same',name='conv3')(x)\n",
    "x=tf.keras.layers.BatchNormalization(name='bn3')(x)\n",
    "x=tf.keras.layers.MaxPooling1D(pool_size=2,strides=2,padding='same',name='plool3')(x)\n",
    "\n",
    "x=tf.keras.layers.Conv1D(filters=128,kernel_size=3,strides=1,activation='relu',padding='same',name='conv4')(x)\n",
    "x=tf.keras.layers.BatchNormalization(name='bn4')(x)\n",
    "x=tf.keras.layers.MaxPooling1D(pool_size=2,strides=2,padding='same',name='plool4')(x)\n",
    "\n",
    "x=tf.keras.layers.Conv1D(filters=256,kernel_size=3,strides=1,activation='relu',padding='same',name='conv5')(x)\n",
    "x=tf.keras.layers.BatchNormalization(name='bn5')(x)\n",
    "x=tf.keras.layers.MaxPooling1D(pool_size=2,strides=2,padding='same',name='plool5')(x)\n",
    "\n",
    "x=tf.keras.layers.GlobalAveragePooling1D()(x)\n",
    "\n",
    "y1=tf.keras.layers.Dense(128,activation='relu',name='cl_1')(x)\n",
    "y2=tf.keras.layers.Dense(4,name='cl_2')(y1)\n",
    "\n",
    "model=tf.keras.Model(inputs=input_1,outputs=[y1,y2])\n",
    "model.summary()"
   ]
  },
  {
   "cell_type": "code",
   "execution_count": 9,
   "metadata": {},
   "outputs": [],
   "source": [
    "pre_optimizer=tf.keras.optimizers.Adam(learning_rate=0.001)\n",
    "optimizer=tf.keras.optimizers.Adam(learning_rate=0.001)               \n",
    "loss_func=tf.keras.losses.CategoricalCrossentropy(from_logits=True) "
   ]
  },
  {
   "cell_type": "code",
   "execution_count": 10,
   "metadata": {
    "run_control": {
     "marked": false
    }
   },
   "outputs": [],
   "source": [
    "'''\n",
    "It should be noted that Student kernel is only proofed to statisfied the kernel property \n",
    "when the degree of freedom (DOF) is positive integer in this paper; \n",
    "however, experimental results show that the DOF corresponding to the optimal diagnostic accuracy is usually in the range of (0:1),\n",
    "which needs to be further theoretical analysis in future works.\n",
    "'''\n",
    "# Biased VDR loss\n",
    "def vdr_student_loss(X1,X2, DOF=[0.6]):\n",
    "    loss = mix_student_vdr2(X1,X2, sigmas=DOF)\n",
    "    return loss"
   ]
  },
  {
   "cell_type": "code",
   "execution_count": 11,
   "metadata": {},
   "outputs": [],
   "source": [
    "clc_loss=tf.keras.metrics.Mean('clc_loss')                                  \n",
    "mvd_loss=tf.keras.metrics.Mean('mvd_loss')\n",
    "pre_train_loss=tf.keras.metrics.Mean(\"pre_train_loss\")\n",
    "\n",
    "train_accuracy=tf.keras.metrics.CategoricalAccuracy('train_accuracy')\n",
    "pre_train_accuracy=tf.keras.metrics.CategoricalAccuracy('pre_train_accuracy')\n",
    "test_accuracy=tf.keras.metrics.CategoricalAccuracy('test_accuracy')\n",
    "\n",
    "train_acc=[]\n",
    "test_acc=[]\n",
    "clc_loss_=[]\n",
    "mvd_loss_=[]\n",
    "\n",
    "pre_train_acc=[]\n",
    "pre_train_loss_=[]"
   ]
  },
  {
   "cell_type": "code",
   "execution_count": 12,
   "metadata": {},
   "outputs": [],
   "source": [
    "def train_step(model, source_data,target_data,source_label,target_label):\n",
    "    #The trade-off parameters (u,k) needs to be readjusted for different transfer diagnosis tasks.\n",
    "    #u,k=100,0.2\n",
    "    u,k=100,0.3\n",
    "    with tf.GradientTape() as t:\n",
    "        out1,output1 = model(source_data,training = True)                                \n",
    "        out2,output2 = model(target_data,training = True)                                \n",
    "        loss_step =u*vdr_student_loss(output1,output2)+k*loss_func(source_label,output1)     \n",
    "    grads = t.gradient(loss_step, model.trainable_variables)\n",
    "    \n",
    "    optimizer.apply_gradients(zip(grads, model.trainable_variables))\n",
    "    \n",
    "    mvd_loss(u*vdr_student_loss(output1,output2))\n",
    "    clc_loss(k*loss_func(source_label,output1))\n",
    "    train_accuracy(source_label,output1)\n",
    "    test_accuracy(target_label,output2)\n",
    "\n",
    "    \n",
    "def train():\n",
    "    for epoch in range(100):\n",
    "        for (batch, (source_data,target_data,source_label,target_label)) in enumerate(train_dataset):\n",
    "            train_step(model,source_data,target_data,source_label,target_label)\n",
    "        train_acc.append(train_accuracy.result())\n",
    "        mvd_loss_.append(mvd_loss.result())\n",
    "        clc_loss_.append(clc_loss.result())\n",
    "        test_acc.append(test_accuracy.result())\n",
    "        \n",
    "        print('Epoch{}, mvd_loss is {:.5f}, clc_loss is {:.5f}, train_accuracy is {:.5f},test_accuracy is {:.5f}'.format(epoch+1,\n",
    "                                                                                          mvd_loss.result(),\n",
    "                                                                                          clc_loss.result(),           \n",
    "                                                                                          train_accuracy.result(),\n",
    "                                                                                          test_accuracy.result()))\n",
    "        \n",
    "        mvd_loss.reset_states()\n",
    "        clc_loss.reset_states()\n",
    "        train_accuracy.reset_states()\n",
    "        test_accuracy.reset_states()"
   ]
  },
  {
   "cell_type": "code",
   "execution_count": 13,
   "metadata": {},
   "outputs": [
    {
     "name": "stdout",
     "output_type": "stream",
     "text": [
      "Epoch1, mvd_loss is 0.28189, clc_loss is 0.16981, train_accuracy is 0.70917,test_accuracy is 0.44607\n",
      "Epoch2, mvd_loss is 0.15431, clc_loss is 0.16745, train_accuracy is 0.77419,test_accuracy is 0.48135\n",
      "Epoch3, mvd_loss is 0.11382, clc_loss is 0.17671, train_accuracy is 0.77823,test_accuracy is 0.49496\n",
      "Epoch4, mvd_loss is 0.09632, clc_loss is 0.14741, train_accuracy is 0.88861,test_accuracy is 0.57384\n",
      "Epoch5, mvd_loss is 0.09065, clc_loss is 0.13844, train_accuracy is 0.91280,test_accuracy is 0.66935\n",
      "Epoch6, mvd_loss is 0.08591, clc_loss is 0.14405, train_accuracy is 0.87525,test_accuracy is 0.62046\n",
      "Epoch7, mvd_loss is 0.07261, clc_loss is 0.13753, train_accuracy is 0.91003,test_accuracy is 0.67339\n",
      "Epoch8, mvd_loss is 0.07143, clc_loss is 0.12200, train_accuracy is 0.94909,test_accuracy is 0.71925\n",
      "Epoch9, mvd_loss is 0.06439, clc_loss is 0.11763, train_accuracy is 0.94909,test_accuracy is 0.72203\n",
      "Epoch10, mvd_loss is 0.05928, clc_loss is 0.11461, train_accuracy is 0.95010,test_accuracy is 0.74395\n",
      "Epoch11, mvd_loss is 0.05863, clc_loss is 0.11307, train_accuracy is 0.95363,test_accuracy is 0.73589\n",
      "Epoch12, mvd_loss is 0.06441, clc_loss is 0.10992, train_accuracy is 0.96724,test_accuracy is 0.73564\n",
      "Epoch13, mvd_loss is 0.05672, clc_loss is 0.10392, train_accuracy is 0.97404,test_accuracy is 0.75580\n",
      "Epoch14, mvd_loss is 0.05612, clc_loss is 0.09371, train_accuracy is 0.97933,test_accuracy is 0.76815\n",
      "Epoch15, mvd_loss is 0.06559, clc_loss is 0.09486, train_accuracy is 0.97253,test_accuracy is 0.77722\n",
      "Epoch16, mvd_loss is 0.06346, clc_loss is 0.08985, train_accuracy is 0.97026,test_accuracy is 0.79284\n",
      "Epoch17, mvd_loss is 0.06605, clc_loss is 0.09286, train_accuracy is 0.96774,test_accuracy is 0.78604\n",
      "Epoch18, mvd_loss is 0.04735, clc_loss is 0.09231, train_accuracy is 0.96522,test_accuracy is 0.78805\n",
      "Epoch19, mvd_loss is 0.05848, clc_loss is 0.08415, train_accuracy is 0.98211,test_accuracy is 0.80091\n",
      "Epoch20, mvd_loss is 0.06623, clc_loss is 0.07505, train_accuracy is 0.98009,test_accuracy is 0.78705\n",
      "Epoch21, mvd_loss is 0.05828, clc_loss is 0.07792, train_accuracy is 0.98110,test_accuracy is 0.79940\n",
      "Epoch22, mvd_loss is 0.05125, clc_loss is 0.07665, train_accuracy is 0.98311,test_accuracy is 0.80192\n",
      "Epoch23, mvd_loss is 0.05028, clc_loss is 0.06936, train_accuracy is 0.98891,test_accuracy is 0.81250\n",
      "Epoch24, mvd_loss is 0.05962, clc_loss is 0.06600, train_accuracy is 0.98740,test_accuracy is 0.79662\n",
      "Epoch25, mvd_loss is 0.06057, clc_loss is 0.07436, train_accuracy is 0.98085,test_accuracy is 0.74975\n",
      "Epoch26, mvd_loss is 0.04736, clc_loss is 0.07086, train_accuracy is 0.98589,test_accuracy is 0.76890\n",
      "Epoch27, mvd_loss is 0.04605, clc_loss is 0.06156, train_accuracy is 0.98916,test_accuracy is 0.79284\n",
      "Epoch28, mvd_loss is 0.05684, clc_loss is 0.06063, train_accuracy is 0.98765,test_accuracy is 0.79133\n",
      "Epoch29, mvd_loss is 0.04514, clc_loss is 0.06201, train_accuracy is 0.98841,test_accuracy is 0.80796\n",
      "Epoch30, mvd_loss is 0.04945, clc_loss is 0.07002, train_accuracy is 0.97429,test_accuracy is 0.80242\n",
      "Epoch31, mvd_loss is 0.04887, clc_loss is 0.06288, train_accuracy is 0.97984,test_accuracy is 0.80393\n",
      "Epoch32, mvd_loss is 0.04879, clc_loss is 0.06297, train_accuracy is 0.98513,test_accuracy is 0.80948\n",
      "Epoch33, mvd_loss is 0.05456, clc_loss is 0.05811, train_accuracy is 0.98639,test_accuracy is 0.80292\n",
      "Epoch34, mvd_loss is 0.04819, clc_loss is 0.06733, train_accuracy is 0.97581,test_accuracy is 0.79587\n",
      "Epoch35, mvd_loss is 0.05351, clc_loss is 0.05753, train_accuracy is 0.98765,test_accuracy is 0.81074\n",
      "Epoch36, mvd_loss is 0.04472, clc_loss is 0.05779, train_accuracy is 0.98589,test_accuracy is 0.82308\n",
      "Epoch37, mvd_loss is 0.04924, clc_loss is 0.05851, train_accuracy is 0.98488,test_accuracy is 0.81401\n",
      "Epoch38, mvd_loss is 0.04454, clc_loss is 0.05647, train_accuracy is 0.98362,test_accuracy is 0.80192\n",
      "Epoch39, mvd_loss is 0.05312, clc_loss is 0.06221, train_accuracy is 0.98538,test_accuracy is 0.81376\n",
      "Epoch40, mvd_loss is 0.05824, clc_loss is 0.05675, train_accuracy is 0.98614,test_accuracy is 0.82082\n",
      "Epoch41, mvd_loss is 0.05285, clc_loss is 0.05105, train_accuracy is 0.99068,test_accuracy is 0.79965\n",
      "Epoch42, mvd_loss is 0.04997, clc_loss is 0.05549, train_accuracy is 0.98538,test_accuracy is 0.82434\n",
      "Epoch43, mvd_loss is 0.04876, clc_loss is 0.05412, train_accuracy is 0.98438,test_accuracy is 0.80847\n",
      "Epoch44, mvd_loss is 0.04388, clc_loss is 0.04736, train_accuracy is 0.99017,test_accuracy is 0.79183\n",
      "Epoch45, mvd_loss is 0.04186, clc_loss is 0.04660, train_accuracy is 0.99420,test_accuracy is 0.80922\n",
      "Epoch46, mvd_loss is 0.04248, clc_loss is 0.04589, train_accuracy is 0.99219,test_accuracy is 0.80897\n",
      "Epoch47, mvd_loss is 0.04818, clc_loss is 0.04236, train_accuracy is 0.99143,test_accuracy is 0.82031\n",
      "Epoch48, mvd_loss is 0.04264, clc_loss is 0.04301, train_accuracy is 0.98740,test_accuracy is 0.81275\n",
      "Epoch49, mvd_loss is 0.04480, clc_loss is 0.04479, train_accuracy is 0.98891,test_accuracy is 0.81552\n",
      "Epoch50, mvd_loss is 0.04735, clc_loss is 0.04423, train_accuracy is 0.98387,test_accuracy is 0.84173\n",
      "Epoch51, mvd_loss is 0.04831, clc_loss is 0.04564, train_accuracy is 0.98412,test_accuracy is 0.82056\n",
      "Epoch52, mvd_loss is 0.03895, clc_loss is 0.04764, train_accuracy is 0.98362,test_accuracy is 0.82384\n",
      "Epoch53, mvd_loss is 0.04576, clc_loss is 0.04186, train_accuracy is 0.98311,test_accuracy is 0.84098\n",
      "Epoch54, mvd_loss is 0.05289, clc_loss is 0.05358, train_accuracy is 0.97833,test_accuracy is 0.81779\n",
      "Epoch55, mvd_loss is 0.04630, clc_loss is 0.04529, train_accuracy is 0.98715,test_accuracy is 0.85333\n",
      "Epoch56, mvd_loss is 0.06073, clc_loss is 0.04011, train_accuracy is 0.98992,test_accuracy is 0.82863\n",
      "Epoch57, mvd_loss is 0.04557, clc_loss is 0.03574, train_accuracy is 0.98765,test_accuracy is 0.83619\n",
      "Epoch58, mvd_loss is 0.04994, clc_loss is 0.03434, train_accuracy is 0.98816,test_accuracy is 0.84652\n",
      "Epoch59, mvd_loss is 0.04018, clc_loss is 0.03949, train_accuracy is 0.99017,test_accuracy is 0.81880\n",
      "Epoch60, mvd_loss is 0.04736, clc_loss is 0.03658, train_accuracy is 0.99244,test_accuracy is 0.77646\n",
      "Epoch61, mvd_loss is 0.04981, clc_loss is 0.03852, train_accuracy is 0.98765,test_accuracy is 0.79486\n",
      "Epoch62, mvd_loss is 0.04486, clc_loss is 0.03619, train_accuracy is 0.98790,test_accuracy is 0.81477\n",
      "Epoch63, mvd_loss is 0.05147, clc_loss is 0.03338, train_accuracy is 0.99194,test_accuracy is 0.84325\n",
      "Epoch64, mvd_loss is 0.05180, clc_loss is 0.04387, train_accuracy is 0.98059,test_accuracy is 0.84325\n",
      "Epoch65, mvd_loss is 0.05573, clc_loss is 0.04555, train_accuracy is 0.97959,test_accuracy is 0.80922\n",
      "Epoch66, mvd_loss is 0.04274, clc_loss is 0.03891, train_accuracy is 0.98513,test_accuracy is 0.81754\n",
      "Epoch67, mvd_loss is 0.04404, clc_loss is 0.03802, train_accuracy is 0.98740,test_accuracy is 0.82157\n",
      "Epoch68, mvd_loss is 0.04713, clc_loss is 0.03118, train_accuracy is 0.98916,test_accuracy is 0.83392\n",
      "Epoch69, mvd_loss is 0.05323, clc_loss is 0.03144, train_accuracy is 0.98790,test_accuracy is 0.83619\n",
      "Epoch70, mvd_loss is 0.04197, clc_loss is 0.04246, train_accuracy is 0.98916,test_accuracy is 0.84602\n",
      "Epoch71, mvd_loss is 0.04254, clc_loss is 0.03801, train_accuracy is 0.98488,test_accuracy is 0.84501\n",
      "Epoch72, mvd_loss is 0.05120, clc_loss is 0.02937, train_accuracy is 0.99320,test_accuracy is 0.83720\n",
      "Epoch73, mvd_loss is 0.04059, clc_loss is 0.02835, train_accuracy is 0.99068,test_accuracy is 0.82762\n",
      "Epoch74, mvd_loss is 0.04371, clc_loss is 0.02825, train_accuracy is 0.99068,test_accuracy is 0.84803\n",
      "Epoch75, mvd_loss is 0.04665, clc_loss is 0.03018, train_accuracy is 0.99244,test_accuracy is 0.82560\n",
      "Epoch76, mvd_loss is 0.04461, clc_loss is 0.03137, train_accuracy is 0.98841,test_accuracy is 0.82056\n",
      "Epoch77, mvd_loss is 0.04695, clc_loss is 0.03915, train_accuracy is 0.97858,test_accuracy is 0.81401\n",
      "Epoch78, mvd_loss is 0.05106, clc_loss is 0.03154, train_accuracy is 0.99395,test_accuracy is 0.83896\n",
      "Epoch79, mvd_loss is 0.04745, clc_loss is 0.04361, train_accuracy is 0.98236,test_accuracy is 0.81830\n",
      "Epoch80, mvd_loss is 0.04334, clc_loss is 0.03270, train_accuracy is 0.98690,test_accuracy is 0.82787\n",
      "Epoch81, mvd_loss is 0.04222, clc_loss is 0.02800, train_accuracy is 0.98866,test_accuracy is 0.83543\n"
     ]
    },
    {
     "name": "stdout",
     "output_type": "stream",
     "text": [
      "Epoch82, mvd_loss is 0.03989, clc_loss is 0.02616, train_accuracy is 0.98967,test_accuracy is 0.84854\n",
      "Epoch83, mvd_loss is 0.03394, clc_loss is 0.02533, train_accuracy is 0.99068,test_accuracy is 0.86694\n",
      "Epoch84, mvd_loss is 0.05396, clc_loss is 0.03340, train_accuracy is 0.97908,test_accuracy is 0.83165\n",
      "Epoch85, mvd_loss is 0.05383, clc_loss is 0.03688, train_accuracy is 0.98034,test_accuracy is 0.80267\n",
      "Epoch86, mvd_loss is 0.05552, clc_loss is 0.03434, train_accuracy is 0.98311,test_accuracy is 0.82686\n",
      "Epoch87, mvd_loss is 0.03625, clc_loss is 0.03210, train_accuracy is 0.98513,test_accuracy is 0.84249\n",
      "Epoch88, mvd_loss is 0.04560, clc_loss is 0.02584, train_accuracy is 0.99143,test_accuracy is 0.85610\n",
      "Epoch89, mvd_loss is 0.03946, clc_loss is 0.02121, train_accuracy is 0.99471,test_accuracy is 0.85484\n",
      "Epoch90, mvd_loss is 0.03939, clc_loss is 0.02300, train_accuracy is 0.98967,test_accuracy is 0.86290\n",
      "Epoch91, mvd_loss is 0.03815, clc_loss is 0.02331, train_accuracy is 0.98664,test_accuracy is 0.87147\n",
      "Epoch92, mvd_loss is 0.03684, clc_loss is 0.01920, train_accuracy is 0.99597,test_accuracy is 0.86492\n",
      "Epoch93, mvd_loss is 0.03459, clc_loss is 0.01745, train_accuracy is 0.99521,test_accuracy is 0.86870\n",
      "Epoch94, mvd_loss is 0.03441, clc_loss is 0.02360, train_accuracy is 0.99219,test_accuracy is 0.88130\n",
      "Epoch95, mvd_loss is 0.03564, clc_loss is 0.02328, train_accuracy is 0.99572,test_accuracy is 0.89239\n",
      "Epoch96, mvd_loss is 0.03491, clc_loss is 0.01950, train_accuracy is 0.99168,test_accuracy is 0.89667\n",
      "Epoch97, mvd_loss is 0.03107, clc_loss is 0.01637, train_accuracy is 0.99496,test_accuracy is 0.90751\n",
      "Epoch98, mvd_loss is 0.04825, clc_loss is 0.02161, train_accuracy is 0.99521,test_accuracy is 0.86190\n",
      "Epoch99, mvd_loss is 0.04359, clc_loss is 0.02116, train_accuracy is 0.99446,test_accuracy is 0.86694\n",
      "Epoch100, mvd_loss is 0.06271, clc_loss is 0.02885, train_accuracy is 0.98185,test_accuracy is 0.81502\n"
     ]
    }
   ],
   "source": [
    "train()"
   ]
  },
  {
   "cell_type": "code",
   "execution_count": 14,
   "metadata": {},
   "outputs": [
    {
     "data": {
      "image/png": "[encoded data removed]",
      "text/plain": [
       "<Figure size 432x288 with 1 Axes>"
      ]
     },
     "metadata": {
      "needs_background": "light"
     },
     "output_type": "display_data"
    },
    {
     "data": {
      "image/png": "[encoded data removed]",
      "text/plain": [
       "<Figure size 432x288 with 1 Axes>"
      ]
     },
     "metadata": {
      "needs_background": "light"
     },
     "output_type": "display_data"
    },
    {
     "data": {
      "image/png": "[encoded data removed]",
      "text/plain": [
       "<Figure size 432x288 with 1 Axes>"
      ]
     },
     "metadata": {
      "needs_background": "light"
     },
     "output_type": "display_data"
    },
    {
     "data": {
      "image/png": "[encoded data removed]",
      "text/plain": [
       "<Figure size 432x288 with 1 Axes>"
      ]
     },
     "metadata": {
      "needs_background": "light"
     },
     "output_type": "display_data"
    }
   ],
   "source": [
    "string=['train_acc','test_acc','clc_loss_','mvd_loss_'] \n",
    "for i in string: \n",
    "    path=r'C:\\Users\\帅哥泉\\Desktop\\VDR\\CWRU-JNU\\1'\n",
    "    if os.path.exists(path)==False: \n",
    "        os.makedirs(path) \n",
    "    path=(path+r'\\VDR_Student_{s}.csv').format(s=i) \n",
    "    data=pd.DataFrame(np.array(eval(i))) \n",
    "    data.to_csv(path,index=False) \n",
    "    plt.plot(eval(i),label=i) \n",
    "    plt.legend() \n",
    "    plt.show()"
   ]
  },
  {
   "cell_type": "code",
   "execution_count": null,
   "metadata": {},
   "outputs": [],
   "source": []
  }
 ],
 "metadata": {
  "kernelspec": {
   "display_name": "Python [conda env:tf2] *",
   "language": "python",
   "name": "conda-env-tf2-py"
  },
  "language_info": {
   "codemirror_mode": {
    "name": "ipython",
    "version": 3
   },
   "file_extension": ".py",
   "mimetype": "text/x-python",
   "name": "python",
   "nbconvert_exporter": "python",
   "pygments_lexer": "ipython3",
   "version": "3.8.12"
  }
 },
 "nbformat": 4,
 "nbformat_minor": 4
}
